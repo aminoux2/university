{
 "cells": [
  {
   "cell_type": "code",
   "execution_count": 2,
   "metadata": {},
   "outputs": [],
   "source": [
    "import numpy as np\n",
    "import pandas as pd"
   ]
  },
  {
   "cell_type": "code",
   "execution_count": 15,
   "metadata": {},
   "outputs": [
    {
     "data": {
      "text/html": [
       "<div>\n",
       "<style scoped>\n",
       "    .dataframe tbody tr th:only-of-type {\n",
       "        vertical-align: middle;\n",
       "    }\n",
       "\n",
       "    .dataframe tbody tr th {\n",
       "        vertical-align: top;\n",
       "    }\n",
       "\n",
       "    .dataframe thead th {\n",
       "        text-align: right;\n",
       "    }\n",
       "</style>\n",
       "<table border=\"1\" class=\"dataframe\">\n",
       "  <thead>\n",
       "    <tr style=\"text-align: right;\">\n",
       "      <th></th>\n",
       "      <th>name</th>\n",
       "      <th>address</th>\n",
       "      <th>Website</th>\n",
       "      <th>Type</th>\n",
       "      <th>Size</th>\n",
       "    </tr>\n",
       "  </thead>\n",
       "  <tbody>\n",
       "    <tr>\n",
       "      <th>0</th>\n",
       "      <td>A T Still University of Health Sciences</td>\n",
       "      <td>800 W Jefferson, Kirksville, Missouri 63501</td>\n",
       "      <td>WWW.ATSU.EDU</td>\n",
       "      <td>4-year, Private not-for-profit</td>\n",
       "      <td>3480.0</td>\n",
       "    </tr>\n",
       "    <tr>\n",
       "      <th>1</th>\n",
       "      <td>Abilene Christian University</td>\n",
       "      <td>1600 Campus Court, Abilene, Texas 79699</td>\n",
       "      <td>www.acu.edu</td>\n",
       "      <td>4-year, Private not-for-profit</td>\n",
       "      <td>4669.0</td>\n",
       "    </tr>\n",
       "    <tr>\n",
       "      <th>2</th>\n",
       "      <td>Abraham Baldwin Agricultural College</td>\n",
       "      <td>2802 Moore Hwy, Tifton, Georgia 31793-2601</td>\n",
       "      <td>www.abac.edu</td>\n",
       "      <td>4-year, primarily associate's, Public</td>\n",
       "      <td>3600.0</td>\n",
       "    </tr>\n",
       "    <tr>\n",
       "      <th>3</th>\n",
       "      <td>Academy College</td>\n",
       "      <td>1101 E. 78th Street, Suite 100, Minneapolis, M...</td>\n",
       "      <td>www.academycollege.edu</td>\n",
       "      <td>4-year, primarily associate's, Private for-profit</td>\n",
       "      <td>165.0</td>\n",
       "    </tr>\n",
       "    <tr>\n",
       "      <th>4</th>\n",
       "      <td>Academy for Five Element Acupuncture</td>\n",
       "      <td>305 SE 2nd Ave, Gainesville, Florida 32601</td>\n",
       "      <td>www.acupuncturist.edu</td>\n",
       "      <td>4-year, Private not-for-profit</td>\n",
       "      <td>51.0</td>\n",
       "    </tr>\n",
       "    <tr>\n",
       "      <th>...</th>\n",
       "      <td>...</td>\n",
       "      <td>...</td>\n",
       "      <td>...</td>\n",
       "      <td>...</td>\n",
       "      <td>...</td>\n",
       "    </tr>\n",
       "    <tr>\n",
       "      <th>2902</th>\n",
       "      <td>Yo San University of Traditional Chinese Medicine</td>\n",
       "      <td>13315 W. Washington Boulevard, Los Angeles, Ca...</td>\n",
       "      <td>www.yosan.edu</td>\n",
       "      <td>4-year, Private not-for-profit</td>\n",
       "      <td>139.0</td>\n",
       "    </tr>\n",
       "    <tr>\n",
       "      <th>2903</th>\n",
       "      <td>York College</td>\n",
       "      <td>1125 E 8th St, York, Nebraska 68467-2699</td>\n",
       "      <td>www.york.edu/</td>\n",
       "      <td>4-year, Private not-for-profit</td>\n",
       "      <td>396.0</td>\n",
       "    </tr>\n",
       "    <tr>\n",
       "      <th>2904</th>\n",
       "      <td>York College Pennsylvania</td>\n",
       "      <td>Country Club Rd, York, Pennsylvania 17403-3651</td>\n",
       "      <td>www.ycp.edu</td>\n",
       "      <td>4-year, Private not-for-profit</td>\n",
       "      <td>5627.0</td>\n",
       "    </tr>\n",
       "    <tr>\n",
       "      <th>2905</th>\n",
       "      <td>Youngstown State University</td>\n",
       "      <td>One University Plaza, Youngstown, Ohio 44555-0001</td>\n",
       "      <td>www.ysu.edu</td>\n",
       "      <td>4-year, Public</td>\n",
       "      <td>13704.0</td>\n",
       "    </tr>\n",
       "    <tr>\n",
       "      <th>2906</th>\n",
       "      <td>Zion Bible College</td>\n",
       "      <td>320 South Main Street, Haverhill, Massachusett...</td>\n",
       "      <td>www.zbc.edu</td>\n",
       "      <td>4-year, Private not-for-profit</td>\n",
       "      <td>247.0</td>\n",
       "    </tr>\n",
       "  </tbody>\n",
       "</table>\n",
       "<p>2907 rows × 5 columns</p>\n",
       "</div>"
      ],
      "text/plain": [
       "                                                   name  \\\n",
       "0               A T Still University of Health Sciences   \n",
       "1                          Abilene Christian University   \n",
       "2                  Abraham Baldwin Agricultural College   \n",
       "3                                       Academy College   \n",
       "4                  Academy for Five Element Acupuncture   \n",
       "...                                                 ...   \n",
       "2902  Yo San University of Traditional Chinese Medicine   \n",
       "2903                                       York College   \n",
       "2904                          York College Pennsylvania   \n",
       "2905                        Youngstown State University   \n",
       "2906                                 Zion Bible College   \n",
       "\n",
       "                                                address  \\\n",
       "0           800 W Jefferson, Kirksville, Missouri 63501   \n",
       "1               1600 Campus Court, Abilene, Texas 79699   \n",
       "2            2802 Moore Hwy, Tifton, Georgia 31793-2601   \n",
       "3     1101 E. 78th Street, Suite 100, Minneapolis, M...   \n",
       "4            305 SE 2nd Ave, Gainesville, Florida 32601   \n",
       "...                                                 ...   \n",
       "2902  13315 W. Washington Boulevard, Los Angeles, Ca...   \n",
       "2903           1125 E 8th St, York, Nebraska 68467-2699   \n",
       "2904     Country Club Rd, York, Pennsylvania 17403-3651   \n",
       "2905  One University Plaza, Youngstown, Ohio 44555-0001   \n",
       "2906  320 South Main Street, Haverhill, Massachusett...   \n",
       "\n",
       "                     Website  \\\n",
       "0               WWW.ATSU.EDU   \n",
       "1                www.acu.edu   \n",
       "2               www.abac.edu   \n",
       "3     www.academycollege.edu   \n",
       "4      www.acupuncturist.edu   \n",
       "...                      ...   \n",
       "2902           www.yosan.edu   \n",
       "2903           www.york.edu/   \n",
       "2904             www.ycp.edu   \n",
       "2905             www.ysu.edu   \n",
       "2906             www.zbc.edu   \n",
       "\n",
       "                                                   Type     Size  \n",
       "0                        4-year, Private not-for-profit   3480.0  \n",
       "1                        4-year, Private not-for-profit   4669.0  \n",
       "2                 4-year, primarily associate's, Public   3600.0  \n",
       "3     4-year, primarily associate's, Private for-profit    165.0  \n",
       "4                        4-year, Private not-for-profit     51.0  \n",
       "...                                                 ...      ...  \n",
       "2902                     4-year, Private not-for-profit    139.0  \n",
       "2903                     4-year, Private not-for-profit    396.0  \n",
       "2904                     4-year, Private not-for-profit   5627.0  \n",
       "2905                                     4-year, Public  13704.0  \n",
       "2906                     4-year, Private not-for-profit    247.0  \n",
       "\n",
       "[2907 rows x 5 columns]"
      ]
     },
     "execution_count": 15,
     "metadata": {},
     "output_type": "execute_result"
    }
   ],
   "source": [
    "url = 'https://s3-us-west-2.amazonaws.com/learn-assets.galvanize.com/gSchool/ds-curriculum/sql-block/universities.csv'\n",
    "uni = pd.read_csv(url, sep = '\\t', delimiter=\",\")\n",
    "\n",
    "uni\n"
   ]
  },
  {
   "cell_type": "code",
   "execution_count": 17,
   "metadata": {},
   "outputs": [
    {
     "data": {
      "text/html": [
       "<div>\n",
       "<style scoped>\n",
       "    .dataframe tbody tr th:only-of-type {\n",
       "        vertical-align: middle;\n",
       "    }\n",
       "\n",
       "    .dataframe tbody tr th {\n",
       "        vertical-align: top;\n",
       "    }\n",
       "\n",
       "    .dataframe thead th {\n",
       "        text-align: right;\n",
       "    }\n",
       "</style>\n",
       "<table border=\"1\" class=\"dataframe\">\n",
       "  <thead>\n",
       "    <tr style=\"text-align: right;\">\n",
       "      <th></th>\n",
       "      <th>name</th>\n",
       "      <th>address</th>\n",
       "      <th>Website</th>\n",
       "      <th>Type</th>\n",
       "      <th>Size</th>\n",
       "    </tr>\n",
       "  </thead>\n",
       "  <tbody>\n",
       "    <tr>\n",
       "      <th>0</th>\n",
       "      <td>A T Still University of Health Sciences</td>\n",
       "      <td>800 W Jefferson, Kirksville, Missouri 63501</td>\n",
       "      <td>WWW.ATSU.EDU</td>\n",
       "      <td>4-year, Private not-for-profit</td>\n",
       "      <td>3480.0</td>\n",
       "    </tr>\n",
       "    <tr>\n",
       "      <th>1</th>\n",
       "      <td>Abilene Christian University</td>\n",
       "      <td>1600 Campus Court, Abilene, Texas 79699</td>\n",
       "      <td>www.acu.edu</td>\n",
       "      <td>4-year, Private not-for-profit</td>\n",
       "      <td>4669.0</td>\n",
       "    </tr>\n",
       "    <tr>\n",
       "      <th>2</th>\n",
       "      <td>Abraham Baldwin Agricultural College</td>\n",
       "      <td>2802 Moore Hwy, Tifton, Georgia 31793-2601</td>\n",
       "      <td>www.abac.edu</td>\n",
       "      <td>4-year, primarily associate's, Public</td>\n",
       "      <td>3600.0</td>\n",
       "    </tr>\n",
       "    <tr>\n",
       "      <th>3</th>\n",
       "      <td>Academy College</td>\n",
       "      <td>1101 E. 78th Street, Suite 100, Minneapolis, M...</td>\n",
       "      <td>www.academycollege.edu</td>\n",
       "      <td>4-year, primarily associate's, Private for-profit</td>\n",
       "      <td>165.0</td>\n",
       "    </tr>\n",
       "    <tr>\n",
       "      <th>4</th>\n",
       "      <td>Academy for Five Element Acupuncture</td>\n",
       "      <td>305 SE 2nd Ave, Gainesville, Florida 32601</td>\n",
       "      <td>www.acupuncturist.edu</td>\n",
       "      <td>4-year, Private not-for-profit</td>\n",
       "      <td>51.0</td>\n",
       "    </tr>\n",
       "  </tbody>\n",
       "</table>\n",
       "</div>"
      ],
      "text/plain": [
       "                                      name  \\\n",
       "0  A T Still University of Health Sciences   \n",
       "1             Abilene Christian University   \n",
       "2     Abraham Baldwin Agricultural College   \n",
       "3                          Academy College   \n",
       "4     Academy for Five Element Acupuncture   \n",
       "\n",
       "                                             address                 Website  \\\n",
       "0        800 W Jefferson, Kirksville, Missouri 63501            WWW.ATSU.EDU   \n",
       "1            1600 Campus Court, Abilene, Texas 79699             www.acu.edu   \n",
       "2         2802 Moore Hwy, Tifton, Georgia 31793-2601            www.abac.edu   \n",
       "3  1101 E. 78th Street, Suite 100, Minneapolis, M...  www.academycollege.edu   \n",
       "4         305 SE 2nd Ave, Gainesville, Florida 32601   www.acupuncturist.edu   \n",
       "\n",
       "                                                Type    Size  \n",
       "0                     4-year, Private not-for-profit  3480.0  \n",
       "1                     4-year, Private not-for-profit  4669.0  \n",
       "2              4-year, primarily associate's, Public  3600.0  \n",
       "3  4-year, primarily associate's, Private for-profit   165.0  \n",
       "4                     4-year, Private not-for-profit    51.0  "
      ]
     },
     "execution_count": 17,
     "metadata": {},
     "output_type": "execute_result"
    }
   ],
   "source": [
    "uni.head()"
   ]
  },
  {
   "cell_type": "code",
   "execution_count": 18,
   "metadata": {},
   "outputs": [
    {
     "data": {
      "text/plain": [
       "(2907, 5)"
      ]
     },
     "execution_count": 18,
     "metadata": {},
     "output_type": "execute_result"
    }
   ],
   "source": [
    "uni.shape"
   ]
  },
  {
   "cell_type": "code",
   "execution_count": 19,
   "metadata": {},
   "outputs": [
    {
     "data": {
      "text/plain": [
       "<bound method NDFrame.describe of                                                    name  \\\n",
       "0               A T Still University of Health Sciences   \n",
       "1                          Abilene Christian University   \n",
       "2                  Abraham Baldwin Agricultural College   \n",
       "3                                       Academy College   \n",
       "4                  Academy for Five Element Acupuncture   \n",
       "...                                                 ...   \n",
       "2902  Yo San University of Traditional Chinese Medicine   \n",
       "2903                                       York College   \n",
       "2904                          York College Pennsylvania   \n",
       "2905                        Youngstown State University   \n",
       "2906                                 Zion Bible College   \n",
       "\n",
       "                                                address  \\\n",
       "0           800 W Jefferson, Kirksville, Missouri 63501   \n",
       "1               1600 Campus Court, Abilene, Texas 79699   \n",
       "2            2802 Moore Hwy, Tifton, Georgia 31793-2601   \n",
       "3     1101 E. 78th Street, Suite 100, Minneapolis, M...   \n",
       "4            305 SE 2nd Ave, Gainesville, Florida 32601   \n",
       "...                                                 ...   \n",
       "2902  13315 W. Washington Boulevard, Los Angeles, Ca...   \n",
       "2903           1125 E 8th St, York, Nebraska 68467-2699   \n",
       "2904     Country Club Rd, York, Pennsylvania 17403-3651   \n",
       "2905  One University Plaza, Youngstown, Ohio 44555-0001   \n",
       "2906  320 South Main Street, Haverhill, Massachusett...   \n",
       "\n",
       "                     Website  \\\n",
       "0               WWW.ATSU.EDU   \n",
       "1                www.acu.edu   \n",
       "2               www.abac.edu   \n",
       "3     www.academycollege.edu   \n",
       "4      www.acupuncturist.edu   \n",
       "...                      ...   \n",
       "2902           www.yosan.edu   \n",
       "2903           www.york.edu/   \n",
       "2904             www.ycp.edu   \n",
       "2905             www.ysu.edu   \n",
       "2906             www.zbc.edu   \n",
       "\n",
       "                                                   Type     Size  \n",
       "0                        4-year, Private not-for-profit   3480.0  \n",
       "1                        4-year, Private not-for-profit   4669.0  \n",
       "2                 4-year, primarily associate's, Public   3600.0  \n",
       "3     4-year, primarily associate's, Private for-profit    165.0  \n",
       "4                        4-year, Private not-for-profit     51.0  \n",
       "...                                                 ...      ...  \n",
       "2902                     4-year, Private not-for-profit    139.0  \n",
       "2903                     4-year, Private not-for-profit    396.0  \n",
       "2904                     4-year, Private not-for-profit   5627.0  \n",
       "2905                                     4-year, Public  13704.0  \n",
       "2906                     4-year, Private not-for-profit    247.0  \n",
       "\n",
       "[2907 rows x 5 columns]>"
      ]
     },
     "execution_count": 19,
     "metadata": {},
     "output_type": "execute_result"
    }
   ],
   "source": [
    "uni.describe"
   ]
  },
  {
   "cell_type": "code",
   "execution_count": 20,
   "metadata": {},
   "outputs": [
    {
     "data": {
      "text/plain": [
       "Index(['name', 'address', 'Website', 'Type', 'Size'], dtype='object')"
      ]
     },
     "execution_count": 20,
     "metadata": {},
     "output_type": "execute_result"
    }
   ],
   "source": [
    "uni.columns"
   ]
  },
  {
   "cell_type": "code",
   "execution_count": 26,
   "metadata": {},
   "outputs": [
    {
     "data": {
      "text/plain": [
       "Type\n",
       "4-year, Private for-profit                                3504.501859\n",
       "4-year, Private not-for-profit                            2399.885696\n",
       "4-year, Public                                           11478.913765\n",
       "4-year, primarily associate's, Private for-profit          934.380597\n",
       "4-year, primarily associate's, Private not-for-profit     1129.413793\n",
       "4-year, primarily associate's, Public                     6889.366197\n",
       "Name: Size, dtype: float64"
      ]
     },
     "execution_count": 26,
     "metadata": {},
     "output_type": "execute_result"
    }
   ],
   "source": [
    "uni.groupby(['Type'])['Size'].mean(), asc"
   ]
  },
  {
   "cell_type": "code",
   "execution_count": 27,
   "metadata": {},
   "outputs": [
    {
     "data": {
      "text/plain": [
       "Type\n",
       "4-year, Private for-profit                                730.0\n",
       "4-year, Private not-for-profit                           1206.0\n",
       "4-year, Public                                           7669.0\n",
       "4-year, primarily associate's, Private for-profit         564.5\n",
       "4-year, primarily associate's, Private not-for-profit     768.0\n",
       "4-year, primarily associate's, Public                    3558.0\n",
       "Name: Size, dtype: float64"
      ]
     },
     "execution_count": 27,
     "metadata": {},
     "output_type": "execute_result"
    }
   ],
   "source": [
    "uni.groupby(['Type'])['Size'].median(), asc"
   ]
  }
 ],
 "metadata": {
  "kernelspec": {
   "display_name": "Python 3",
   "language": "python",
   "name": "python3"
  },
  "language_info": {
   "codemirror_mode": {
    "name": "ipython",
    "version": 3
   },
   "file_extension": ".py",
   "mimetype": "text/x-python",
   "name": "python",
   "nbconvert_exporter": "python",
   "pygments_lexer": "ipython3",
   "version": "3.7.7"
  }
 },
 "nbformat": 4,
 "nbformat_minor": 4
}
